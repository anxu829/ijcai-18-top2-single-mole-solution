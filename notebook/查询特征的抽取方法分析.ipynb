{
 "cells": [
  {
   "cell_type": "markdown",
   "metadata": {},
   "source": [
    "# base feature"
   ]
  },
  {
   "cell_type": "code",
   "execution_count": 3,
   "metadata": {},
   "outputs": [
    {
     "data": {
      "text/plain": [
       "6"
      ]
     },
     "execution_count": 3,
     "metadata": {},
     "output_type": "execute_result"
    }
   ],
   "source": [
    "from multiprocessing import Pool\n",
    "from multiprocessing import cpu_count\n",
    "import math\n",
    "import pandas as pd\n",
    "import datetime\n",
    "import numpy as np\n",
    "import gc\n",
    "\n",
    "processor=cpu_count()-2\n",
    "processor"
   ]
  },
  {
   "cell_type": "markdown",
   "metadata": {},
   "source": [
    "### 1. concat 特征的思路\n",
    "\n",
    "#### 通过对于特征的连结，可以分析交互特征"
   ]
  },
  {
   "cell_type": "code",
   "execution_count": 1,
   "metadata": {},
   "outputs": [],
   "source": [
    "def concate_feature(data):\n",
    "    features=[('user_occupation_id','shop_star_level'),('item_collected_level','item_pv_level'),('user_star_level','hour48'),('item_price_level','hour48'),('item_sales_level','context_page_id')]\n",
    "    con_fea=[]\n",
    "    def concate_feature(data, f1, f2, name):\n",
    "        data[name] = data.apply(lambda x: str(x[f1]) + ';' + str(x[f2]), axis=1)\n",
    "        return data\n",
    "    for i in features:\n",
    "        data=concate_feature(data, i[0], i[1], '_con_'.join(i))\n",
    "        con_fea.append('_con_'.join(i))\n",
    "    return data,con_fea\n"
   ]
  },
  {
   "cell_type": "markdown",
   "metadata": {},
   "source": [
    "### 2. query 特征的抽取"
   ]
  },
  {
   "cell_type": "markdown",
   "metadata": {},
   "source": [
    "#### 大框架：首先对于每条查询，抽取出原始数据中，instance_id 和它相同的所有观测"
   ]
  },
  {
   "cell_type": "code",
   "execution_count": 6,
   "metadata": {},
   "outputs": [],
   "source": [
    "data=pd.read_csv('query_xxx.csv')\n",
    "features=[]\n",
    "for index,row in data.iterrows():\n",
    "    feature={}\n",
    "    feature['instance_id']=row['instance_id']\n",
    "    if index%100==0:\n",
    "        print(index)\n",
    "    col=['user_id','predict_category_property','context_timestamp','day','query1','query','item_id','shop_id','item_brand_id','item_city_id','context_page_id','item_category_list']\n",
    "    # tmp 就是 instance_id 相同的所有的 数据\n",
    "    tmp=data[data['user_id']==row['user_id']][['instance_id']+col]\n",
    "    \n",
    "    "
   ]
  },
  {
   "cell_type": "markdown",
   "metadata": {},
   "source": [
    "#### 2.1 query_cnt 信息统计 : 反应一个人对本次查询的关注程度"
   ]
  },
  {
   "cell_type": "markdown",
   "metadata": {},
   "source": [
    "#### before_query_cnt   : 所有在这条记录之前，predict_category_property 和 这条记录一致的记录的总数\n",
    "#### before_query_1_cnt : 所有在这条记录之前，query1 和 这条记录一致的记录的总数\n",
    "#### before_query_all_cnt : 所有在这条记录之前，query 和 这条记录一致的记录的总数\n",
    "#### after_query_cnt 、before_query_1_cnt 、 before_query_all_cnt 的处理方法类似\n"
   ]
  },
  {
   "cell_type": "code",
   "execution_count": null,
   "metadata": {},
   "outputs": [],
   "source": [
    "before_query_cnt=len(\n",
    "    tmp[\n",
    "            (tmp['predict_category_property']==row['predict_category_property'])& \\\n",
    "            (tmp['context_timestamp']<row['context_timestamp'])& \\\n",
    "            (tmp['day']<=row['day'])\n",
    "    ]\n",
    ")\n",
    "before_query_1_cnt = len(\n",
    "    tmp[\n",
    "        (tmp['query1'] == row['query1']) & \\\n",
    "        (tmp['context_timestamp'] < row['context_timestamp']) & \\\n",
    "        (tmp['day'] <= row['day'])\n",
    "    ]\n",
    ")\n",
    "before_query_all_cnt = len(\n",
    "    tmp[\n",
    "        (tmp['query'] == row['query']) &  \\\n",
    "        (tmp['context_timestamp'] < row['context_timestamp']) & \\\n",
    "        (tmp['day'] <= row['day'])\n",
    "    ]\n",
    ")\n",
    "\n",
    "after_query_cnt = len(\n",
    "    tmp[\n",
    "        (tmp['predict_category_property'] == row['predict_category_property']) & \\\n",
    "        (tmp['context_timestamp'] > row['context_timestamp'])& \\\n",
    "        (tmp['day']<=row['day'])\n",
    "    ]\n",
    ")\n",
    "\n",
    "after_query_1_cnt = len(\n",
    "    tmp[\n",
    "        (tmp['query1'] == row['query1']) &\\\n",
    "        (tmp['context_timestamp'] > row['context_timestamp']) & \n",
    "        (tmp['day'] <= row['day'])\n",
    "    ]\n",
    ")\n",
    "\n",
    "after_query_all_cnt = len(\n",
    "    tmp[\n",
    "        (tmp['query'] == row['query']) & \\\n",
    "        (tmp['context_timestamp'] > row['context_timestamp']) &  \\\n",
    "        (tmp['day'] <= row['day'])\n",
    "    ]\n",
    ")"
   ]
  },
  {
   "cell_type": "markdown",
   "metadata": {},
   "source": [
    "#### 2.2 分属性查询商品统计信息：反应用户有多喜欢查询某个属性\n",
    "#### before_query_item_cnt     : 所有在这条记录之前，item_id 和 这条记录一致 \\ predict_category_property 和这条记录一致 的记录的总数\n",
    "#### before_query_1_item_cnt   : 所有在这条记录之前，item_id 和 这条记录一致 \\ query1 和 这条记录一致 的记录的总数\n",
    "#### before_query_all_item_cnt : 所有在这条记录之前，item_id 和 这条记录一致 \\ query 和 这条记录一致 的记录的总数\n",
    "#### after_query_item_cnt \\ after_query_1_item_cnt \\ after_query_all_item_cnt 类似      key = item_id\n",
    "#### before_query_shop_cnt \\ before_query_1_shop_cnt \\ before_query_all_shop_cnt \\ 类似 key = shop_id\n",
    "#### after_query_shop_cnt  \\ after_query_1_shop_cnt \\  after_query_all_shop_cnt \\  类似 key = shop_id\n",
    "#### before_query_brand_cnt \\ before_query_all_brand_cnt \\ before_query_1_brand_cnt \\  类似 key = item_brand_id\n",
    "#### after_query_brand_cnt  \\ after_query_1_brand_cnt \\  after_query_all_brand_cnt \\  类似 key = item_brand_id\n",
    "#### before_query_city_cnt \\ before_query_all_city_cnt \\ before_query_1_city_cnt \\  类似 key = item_city_id\n",
    "#### after_query_city_cnt  \\ after_query_1_city_cnt \\  after_query_all_city_cnt \\  类似 key = item_city_id\n",
    "#### context_page_id  、 item_category_list 、 也可以做类似的操作"
   ]
  },
  {
   "cell_type": "code",
   "execution_count": 8,
   "metadata": {},
   "outputs": [],
   "source": [
    "before_query_item_cnt = len(\n",
    "    tmp[\n",
    "        (tmp['item_id']==row['item_id'])&\\\n",
    "        (tmp['predict_category_property']==row['predict_category_property'])&\\\n",
    "        (tmp['context_timestamp']<row['context_timestamp'])&(tmp['day']<=row['day'])\n",
    "    ]\n",
    ")\n",
    "before_query_1_item_cnt = len(\n",
    "    tmp[\n",
    "        (tmp['item_id'] == row['item_id']) & (tmp['query1'] == row['query1']) &  \\\n",
    "        (tmp['context_timestamp'] < row['context_timestamp']) & (tmp['day'] <= row['day'])\n",
    "    ]\n",
    ")\n",
    "before_query_all_item_cnt = len(\n",
    "    tmp[\n",
    "        (tmp['item_id'] == row['item_id']) & (tmp['query'] == row['query']) & \\\n",
    "        (tmp['context_timestamp'] < row['context_timestamp']) & (tmp['day'] <= row['day'])\n",
    "    ]\n",
    ")\n"
   ]
  },
  {
   "cell_type": "markdown",
   "metadata": {},
   "source": [
    "#### 2.3 查询频率信息\n",
    "#### before_diff_query_cnt     ：反应在本次查询之前，用户一共查询了多少次\n",
    "#### before_diff_query_all_cnt ：在本次查询之前，用户一共查询了多少次和 本次查询的query 一致的查询\n",
    "#### before_diff_query_1_cnt   ：在本次查询之前，用户一共查询了多少次和 本次查询的query1 一致的查询\n",
    "#### after_diff_query_all_cnt 、 after_diff_query_1_cnt 类似"
   ]
  },
  {
   "cell_type": "code",
   "execution_count": null,
   "metadata": {},
   "outputs": [],
   "source": [
    "before_diff_query_cnt= len(\n",
    "    set(tmp[\n",
    "        (tmp['context_timestamp']<row['context_timestamp'])& \\\n",
    "        (tmp['predict_category_property']!=row['predict_category_property'])\n",
    "        ]\n",
    "       )\n",
    ")\n",
    "before_diff_query_all_cnt = len(\n",
    "    set(tmp[(tmp['context_timestamp'] < row['context_timestamp']) & \\\n",
    "            (tmp['query'] != row['query'])]))\n",
    "before_diff_query_1_cnt = len(\n",
    "    set(tmp[(tmp['context_timestamp'] < row['context_timestamp']) &\\\n",
    "        (tmp['query1'] != row['query1'])]))"
   ]
  },
  {
   "cell_type": "markdown",
   "metadata": {},
   "source": [
    "#### 2.4 查询时间信息统计\n",
    "#### query_min_time     ： predict_category_property 和本次查询相同时（相同关键词查询）的最早一次查询时间\n",
    "#### query_all_min_time ： query 和 本次查询相同时 的最早一次时间\n",
    "#### query_1_min_time   ： query1 和 本次查询相同时 的最早一次时间"
   ]
  },
  {
   "cell_type": "code",
   "execution_count": null,
   "metadata": {},
   "outputs": [],
   "source": [
    "query_min_time=np.min(\n",
    "    tmp[\n",
    "        (tmp['predict_category_property'] == row['predict_category_property'])\n",
    "    ]['context_timestamp']\n",
    ")\n",
    "query_all_min_time = np.min(\n",
    "    tmp[\n",
    "        (tmp['query'] == row['query'])\n",
    "    ]['context_timestamp']\n",
    ")\n",
    "query_1_min_time = np.min(tmp[(tmp['query1'] == row['query1'])]['context_timestamp'])"
   ]
  },
  {
   "cell_type": "markdown",
   "metadata": {},
   "source": [
    "#### 2.5 除了本次关注的信息，用户还关注了什么？\n",
    "#### before_query_items ： 在 query_min_time（本次查询关键词第一次出现的时间）之前，用户浏览的商品的总数\n",
    "#### before_query_all_items ：在 query_all_min_time（本次查询内容-query 第一次出现的时间）之前，用户浏览的商品的总数\n",
    "#### before_query_1_items ： 在 query_1_min_time（本次查询内容-query1 第一次出现的时间）之前，用户浏览的商品的总数\n",
    "#### 对shop 也可以做类似的操作"
   ]
  },
  {
   "cell_type": "code",
   "execution_count": null,
   "metadata": {},
   "outputs": [],
   "source": [
    "before_query_items= len(set(tmp[(tmp['context_timestamp'] <query_min_time)]['item_id']))\n",
    "before_query_all_items = len(set(tmp[(tmp['context_timestamp'] < query_all_min_time)]['item_id']))\n",
    "before_query_1_items = len(set(tmp[(tmp['context_timestamp'] < query_1_min_time)]['item_id']))\n",
    "before_query_shops = len(set(tmp[(tmp['context_timestamp'] < query_min_time)]['shop_id']))\n",
    "before_query_all_shops = len(set(tmp[(tmp['context_timestamp'] < query_all_min_time)]['shop_id']))\n",
    "before_query_1_shops = len(set(tmp[(tmp['context_timestamp'] < query_1_min_time)]['shop_id']))"
   ]
  },
  {
   "cell_type": "markdown",
   "metadata": {},
   "source": [
    "#### 在本次查询之后，用户还关注了什么\n",
    "#### query_max_time 、 query_all_max_time 、 query_1_max_time 、 \n",
    "#### after_query_items 、 after_query_all_items 、 after_query_1_items 、shops 都可以来一发"
   ]
  },
  {
   "cell_type": "code",
   "execution_count": null,
   "metadata": {},
   "outputs": [],
   "source": [
    "query_max_time = np.max(tmp[(tmp['predict_category_property'] == row['predict_category_property'])]['context_timestamp'])\n",
    "query_all_max_time = np.max(tmp[(tmp['query'] == row['query'])]['context_timestamp'])\n",
    "query_1_max_time = np.max(tmp[(tmp['query1'] == row['query1'])]['context_timestamp'])\n",
    "after_query_items = len(set(tmp[(tmp['context_timestamp'] > query_max_time)]['item_id']))\n",
    "after_query_all_items = len(set(tmp[(tmp['context_timestamp'] > query_all_max_time)]['item_id']))\n",
    "after_query_1_items = len(set(tmp[(tmp['context_timestamp'] > query_1_max_time)]['item_id']))\n",
    "after_query_shops = len(set(tmp[(tmp['context_timestamp'] > query_max_time)]['shop_id']))\n",
    "after_query_all_shops = len(set(tmp[(tmp['context_timestamp'] > query_all_max_time)]['shop_id']))\n",
    "after_query_1_shops = len(set(tmp[(tmp['context_timestamp'] > query_1_max_time)]['shop_id']))"
   ]
  },
  {
   "cell_type": "markdown",
   "metadata": {},
   "source": [
    "##"
   ]
  }
 ],
 "metadata": {
  "kernelspec": {
   "display_name": "Python 2",
   "language": "python",
   "name": "python2"
  },
  "language_info": {
   "codemirror_mode": {
    "name": "ipython",
    "version": 2
   },
   "file_extension": ".py",
   "mimetype": "text/x-python",
   "name": "python",
   "nbconvert_exporter": "python",
   "pygments_lexer": "ipython2",
   "version": "2.7.15"
  }
 },
 "nbformat": 4,
 "nbformat_minor": 2
}
